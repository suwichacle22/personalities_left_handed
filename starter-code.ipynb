{
 "cells": [
  {
   "cell_type": "markdown",
   "id": "e5e043b2",
   "metadata": {},
   "source": [
    "## Week 4, Lab 1: Predicting Left-Handedness from Psychological Factors\n",
    "> Author: Matt Brems\n",
    "\n",
    "One way to define the data science process is as follows:\n",
    "\n",
    "1. Define the problem.\n",
    "2. Obtain the data.\n",
    "3. Explore the data.\n",
    "4. Model the data.\n",
    "5. Evaluate the model.\n",
    "6. Answer the problem.\n",
    "\n",
    "We'll walk through a full data science problem in this lab. \n",
    "\n",
    "---\n",
    "## Define The Problem.\n",
    "\n",
    "You're currently a data scientist working at a university. A professor of psychology is attempting to study the relationship between personalities and left-handedness. They have tasked you with gathering evidence so that they may publish.\n",
    "\n",
    "As a data scientist, you know that any real data science problem must be **specific** and **conclusively answerable**. For example:\n",
    "- Bad data science problem: \"What is the link between obesity and blood pressure?\"\n",
    "    - This is vague and is not conclusively answerable. That is, two people might look at the conclusion and one may say \"Sure, the problem has been answered!\" and the other may say \"The problem has not yet been answered.\"\n",
    "- Good data science problem: \"Does an association exist between obesity and blood pressure?\"\n",
    "    - This is more specific and is conclusively answerable. The problem specifically is asking for a \"Yes\" or \"No\" answer. Based on that, two independent people should both be able to say either \"Yes, the problem has been answered\" or \"No, the problem has not yet been answered.\"\n",
    "- Excellent data science problem: \"As obesity increases, how does blood pressure change?\"\n",
    "    - This is very specific and is conclusively answerable. The problem specifically seeks to understand the effect of one variable on the other.\n",
    "\n",
    "### In the context of the left-handedness and personality example, what are three specific and conclusively answerable problems that you could answer using data science? \n",
    "\n",
    "> You might find it helpful to check out the codebook in the repo for some inspiration."
   ]
  },
  {
   "cell_type": "code",
   "execution_count": 5,
   "id": "11dda8f9",
   "metadata": {},
   "outputs": [],
   "source": [
    "# Does chance of personality violent has increase chance bein left-handed \n",
    "## Q3, Q15, Q16, Q23, Q27, Q39\n",
    "# Does chance of personality smart has increase chance left-handed\n",
    "## use Q1, Q13, Q35, Q11(invert)\n",
    "# Does chance of personality introvert has increase chance left_handed\n",
    "## Q6, Q14"
   ]
  },
  {
   "cell_type": "markdown",
   "id": "32144652",
   "metadata": {},
   "source": [
    "---\n",
    "## Step 2: Obtain the data.\n",
    "\n",
    "### Read in the file titled \"data.csv\":\n",
    "> Hint: Despite being saved as a .csv file, you won't be able to simply `pd.read_csv()` this data!"
   ]
  },
  {
   "cell_type": "code",
   "execution_count": 6,
   "id": "2a154e91",
   "metadata": {},
   "outputs": [],
   "source": [
    "# library imports\n",
    "import pandas as pd\n",
    "import numpy as np\n",
    "import matplotlib.pyplot as plt\n",
    "import seaborn as sns\n",
    "\n",
    "from sklearn.neighbors import KNeighborsClassifier\n",
    "from sklearn.linear_model import LogisticRegression\n",
    "from sklearn.model_selection import train_test_split\n",
    "from sklearn.preprocessing import StandardScaler\n",
    "\n",
    "from sklearn.metrics import confusion_matrix, ConfusionMatrixDisplay, \\\n",
    "accuracy_score, plot_roc_curve, roc_auc_score, recall_score, \\\n",
    "precision_score, f1_score, classification_report"
   ]
  },
  {
   "cell_type": "code",
   "execution_count": 7,
   "id": "1e730059",
   "metadata": {},
   "outputs": [],
   "source": [
    "# import data\n",
    "hand_df = pd.read_csv('data.csv', sep='\\t')"
   ]
  },
  {
   "cell_type": "markdown",
   "id": "50b55b21",
   "metadata": {
    "tags": []
   },
   "source": [
    "---\n",
    "\n",
    "## Step 3: Explore the data.\n",
    "\n",
    "### Conduct background research:\n",
    "\n",
    "Domain knowledge is irreplaceable. Figuring out what information is relevant to a problem, or what data would be useful to gather, is a major part of any end-to-end data science project! For this lab, you'll be using a dataset that someone else has put together, rather than collecting the data yourself.\n",
    "\n",
    "Do some background research about personality and handedness. What features, if any, are likely to help you make good predictions? How well do you think you'll be able to model this? Write a few bullet points summarizing what you believe, and remember to cite external sources.\n",
    "\n",
    "You don't have to be exhaustive here. Do enough research to form an opinion, and then move on.\n",
    "\n",
    "> You'll be using the answers to Q1-Q44 for modeling; you can disregard other features, e.g. country, age, internet browser."
   ]
  },
  {
   "cell_type": "code",
   "execution_count": 8,
   "id": "ac5eff1f",
   "metadata": {},
   "outputs": [],
   "source": [
    "# the frequency of left-handers\n",
    "# is strongly and positively correlated with the rate of homicides.\n",
    "# source:www.ncbi.nlm.nih.gov/pmc/articles/PMC1634940"
   ]
  },
  {
   "cell_type": "code",
   "execution_count": 9,
   "id": "0f9c5604-f247-4c63-80db-41b98ed15dbe",
   "metadata": {},
   "outputs": [],
   "source": [
    "# a left-hand preference with increased mathematical \n",
    "# skills, which makes left-handed \n",
    "# people more likely to be a genius\n",
    "# source:https://www.harpersbazaar.com/uk/culture/culture-news/news/a42209/\n",
    "# left-handed-people-more-likely-to-be-genius/"
   ]
  },
  {
   "cell_type": "code",
   "execution_count": 10,
   "id": "a32b0c78-dd17-4656-8c24-29539b108901",
   "metadata": {},
   "outputs": [],
   "source": [
    "# More specifically Orme (1970) found that left-handers reported\n",
    "# themselves to be more introvert and shy than right-handers, \n",
    "# source: www.ncbi.nlm.nih.gov/pmc/articles/PMC4315011/"
   ]
  },
  {
   "cell_type": "markdown",
   "id": "3adf0649",
   "metadata": {},
   "source": [
    "### Conduct exploratory data analysis on this dataset:\n",
    "\n",
    "If you haven't already, be sure to check out the codebook in the repo, as that will help in your EDA process.\n",
    "\n",
    "You might use this section to perform data cleaning if you find it to be necessary."
   ]
  },
  {
   "cell_type": "code",
   "execution_count": 11,
   "id": "0dfaf7ef",
   "metadata": {},
   "outputs": [
    {
     "data": {
      "text/html": [
       "<div>\n",
       "<style scoped>\n",
       "    .dataframe tbody tr th:only-of-type {\n",
       "        vertical-align: middle;\n",
       "    }\n",
       "\n",
       "    .dataframe tbody tr th {\n",
       "        vertical-align: top;\n",
       "    }\n",
       "\n",
       "    .dataframe thead th {\n",
       "        text-align: right;\n",
       "    }\n",
       "</style>\n",
       "<table border=\"1\" class=\"dataframe\">\n",
       "  <thead>\n",
       "    <tr style=\"text-align: right;\">\n",
       "      <th></th>\n",
       "      <th>Q1</th>\n",
       "      <th>Q2</th>\n",
       "      <th>Q3</th>\n",
       "      <th>Q4</th>\n",
       "      <th>Q5</th>\n",
       "      <th>Q6</th>\n",
       "      <th>Q7</th>\n",
       "      <th>Q8</th>\n",
       "      <th>Q9</th>\n",
       "      <th>Q10</th>\n",
       "      <th>...</th>\n",
       "      <th>country</th>\n",
       "      <th>fromgoogle</th>\n",
       "      <th>engnat</th>\n",
       "      <th>age</th>\n",
       "      <th>education</th>\n",
       "      <th>gender</th>\n",
       "      <th>orientation</th>\n",
       "      <th>race</th>\n",
       "      <th>religion</th>\n",
       "      <th>hand</th>\n",
       "    </tr>\n",
       "  </thead>\n",
       "  <tbody>\n",
       "    <tr>\n",
       "      <th>0</th>\n",
       "      <td>4</td>\n",
       "      <td>1</td>\n",
       "      <td>5</td>\n",
       "      <td>1</td>\n",
       "      <td>5</td>\n",
       "      <td>1</td>\n",
       "      <td>5</td>\n",
       "      <td>1</td>\n",
       "      <td>4</td>\n",
       "      <td>1</td>\n",
       "      <td>...</td>\n",
       "      <td>US</td>\n",
       "      <td>2</td>\n",
       "      <td>1</td>\n",
       "      <td>22</td>\n",
       "      <td>3</td>\n",
       "      <td>1</td>\n",
       "      <td>1</td>\n",
       "      <td>3</td>\n",
       "      <td>2</td>\n",
       "      <td>3</td>\n",
       "    </tr>\n",
       "    <tr>\n",
       "      <th>1</th>\n",
       "      <td>1</td>\n",
       "      <td>5</td>\n",
       "      <td>1</td>\n",
       "      <td>4</td>\n",
       "      <td>2</td>\n",
       "      <td>5</td>\n",
       "      <td>5</td>\n",
       "      <td>4</td>\n",
       "      <td>1</td>\n",
       "      <td>5</td>\n",
       "      <td>...</td>\n",
       "      <td>CA</td>\n",
       "      <td>2</td>\n",
       "      <td>1</td>\n",
       "      <td>14</td>\n",
       "      <td>1</td>\n",
       "      <td>2</td>\n",
       "      <td>2</td>\n",
       "      <td>6</td>\n",
       "      <td>1</td>\n",
       "      <td>1</td>\n",
       "    </tr>\n",
       "    <tr>\n",
       "      <th>2</th>\n",
       "      <td>1</td>\n",
       "      <td>2</td>\n",
       "      <td>1</td>\n",
       "      <td>1</td>\n",
       "      <td>5</td>\n",
       "      <td>4</td>\n",
       "      <td>3</td>\n",
       "      <td>2</td>\n",
       "      <td>1</td>\n",
       "      <td>4</td>\n",
       "      <td>...</td>\n",
       "      <td>NL</td>\n",
       "      <td>2</td>\n",
       "      <td>2</td>\n",
       "      <td>30</td>\n",
       "      <td>4</td>\n",
       "      <td>1</td>\n",
       "      <td>1</td>\n",
       "      <td>1</td>\n",
       "      <td>1</td>\n",
       "      <td>2</td>\n",
       "    </tr>\n",
       "    <tr>\n",
       "      <th>3</th>\n",
       "      <td>1</td>\n",
       "      <td>4</td>\n",
       "      <td>1</td>\n",
       "      <td>5</td>\n",
       "      <td>1</td>\n",
       "      <td>4</td>\n",
       "      <td>5</td>\n",
       "      <td>4</td>\n",
       "      <td>3</td>\n",
       "      <td>5</td>\n",
       "      <td>...</td>\n",
       "      <td>US</td>\n",
       "      <td>2</td>\n",
       "      <td>1</td>\n",
       "      <td>18</td>\n",
       "      <td>2</td>\n",
       "      <td>2</td>\n",
       "      <td>5</td>\n",
       "      <td>3</td>\n",
       "      <td>2</td>\n",
       "      <td>2</td>\n",
       "    </tr>\n",
       "    <tr>\n",
       "      <th>4</th>\n",
       "      <td>5</td>\n",
       "      <td>1</td>\n",
       "      <td>5</td>\n",
       "      <td>1</td>\n",
       "      <td>5</td>\n",
       "      <td>1</td>\n",
       "      <td>5</td>\n",
       "      <td>1</td>\n",
       "      <td>3</td>\n",
       "      <td>1</td>\n",
       "      <td>...</td>\n",
       "      <td>US</td>\n",
       "      <td>2</td>\n",
       "      <td>1</td>\n",
       "      <td>22</td>\n",
       "      <td>3</td>\n",
       "      <td>1</td>\n",
       "      <td>1</td>\n",
       "      <td>3</td>\n",
       "      <td>2</td>\n",
       "      <td>3</td>\n",
       "    </tr>\n",
       "  </tbody>\n",
       "</table>\n",
       "<p>5 rows × 56 columns</p>\n",
       "</div>"
      ],
      "text/plain": [
       "   Q1  Q2  Q3  Q4  Q5  Q6  Q7  Q8  Q9  Q10  ...  country  fromgoogle  engnat  \\\n",
       "0   4   1   5   1   5   1   5   1   4    1  ...       US           2       1   \n",
       "1   1   5   1   4   2   5   5   4   1    5  ...       CA           2       1   \n",
       "2   1   2   1   1   5   4   3   2   1    4  ...       NL           2       2   \n",
       "3   1   4   1   5   1   4   5   4   3    5  ...       US           2       1   \n",
       "4   5   1   5   1   5   1   5   1   3    1  ...       US           2       1   \n",
       "\n",
       "   age  education  gender  orientation  race  religion  hand  \n",
       "0   22          3       1            1     3         2     3  \n",
       "1   14          1       2            2     6         1     1  \n",
       "2   30          4       1            1     1         1     2  \n",
       "3   18          2       2            5     3         2     2  \n",
       "4   22          3       1            1     3         2     3  \n",
       "\n",
       "[5 rows x 56 columns]"
      ]
     },
     "execution_count": 11,
     "metadata": {},
     "output_type": "execute_result"
    }
   ],
   "source": [
    "# display 5 rows\n",
    "hand_df.head()"
   ]
  },
  {
   "cell_type": "code",
   "execution_count": 12,
   "id": "2ac779b9-2bc1-40f5-8072-5b46c7032bac",
   "metadata": {},
   "outputs": [
    {
     "name": "stdout",
     "output_type": "stream",
     "text": [
      "<class 'pandas.core.frame.DataFrame'>\n",
      "RangeIndex: 4184 entries, 0 to 4183\n",
      "Data columns (total 56 columns):\n",
      " #   Column       Non-Null Count  Dtype \n",
      "---  ------       --------------  ----- \n",
      " 0   Q1           4184 non-null   int64 \n",
      " 1   Q2           4184 non-null   int64 \n",
      " 2   Q3           4184 non-null   int64 \n",
      " 3   Q4           4184 non-null   int64 \n",
      " 4   Q5           4184 non-null   int64 \n",
      " 5   Q6           4184 non-null   int64 \n",
      " 6   Q7           4184 non-null   int64 \n",
      " 7   Q8           4184 non-null   int64 \n",
      " 8   Q9           4184 non-null   int64 \n",
      " 9   Q10          4184 non-null   int64 \n",
      " 10  Q11          4184 non-null   int64 \n",
      " 11  Q12          4184 non-null   int64 \n",
      " 12  Q13          4184 non-null   int64 \n",
      " 13  Q14          4184 non-null   int64 \n",
      " 14  Q15          4184 non-null   int64 \n",
      " 15  Q16          4184 non-null   int64 \n",
      " 16  Q17          4184 non-null   int64 \n",
      " 17  Q18          4184 non-null   int64 \n",
      " 18  Q19          4184 non-null   int64 \n",
      " 19  Q20          4184 non-null   int64 \n",
      " 20  Q21          4184 non-null   int64 \n",
      " 21  Q22          4184 non-null   int64 \n",
      " 22  Q23          4184 non-null   int64 \n",
      " 23  Q24          4184 non-null   int64 \n",
      " 24  Q25          4184 non-null   int64 \n",
      " 25  Q26          4184 non-null   int64 \n",
      " 26  Q27          4184 non-null   int64 \n",
      " 27  Q28          4184 non-null   int64 \n",
      " 28  Q29          4184 non-null   int64 \n",
      " 29  Q30          4184 non-null   int64 \n",
      " 30  Q31          4184 non-null   int64 \n",
      " 31  Q32          4184 non-null   int64 \n",
      " 32  Q33          4184 non-null   int64 \n",
      " 33  Q34          4184 non-null   int64 \n",
      " 34  Q35          4184 non-null   int64 \n",
      " 35  Q36          4184 non-null   int64 \n",
      " 36  Q37          4184 non-null   int64 \n",
      " 37  Q38          4184 non-null   int64 \n",
      " 38  Q39          4184 non-null   int64 \n",
      " 39  Q40          4184 non-null   int64 \n",
      " 40  Q41          4184 non-null   int64 \n",
      " 41  Q42          4184 non-null   int64 \n",
      " 42  Q43          4184 non-null   int64 \n",
      " 43  Q44          4184 non-null   int64 \n",
      " 44  introelapse  4184 non-null   int64 \n",
      " 45  testelapse   4184 non-null   int64 \n",
      " 46  country      4184 non-null   object\n",
      " 47  fromgoogle   4184 non-null   int64 \n",
      " 48  engnat       4184 non-null   int64 \n",
      " 49  age          4184 non-null   int64 \n",
      " 50  education    4184 non-null   int64 \n",
      " 51  gender       4184 non-null   int64 \n",
      " 52  orientation  4184 non-null   int64 \n",
      " 53  race         4184 non-null   int64 \n",
      " 54  religion     4184 non-null   int64 \n",
      " 55  hand         4184 non-null   int64 \n",
      "dtypes: int64(55), object(1)\n",
      "memory usage: 1.8+ MB\n"
     ]
    }
   ],
   "source": [
    "# check types\n",
    "hand_df.info()"
   ]
  },
  {
   "cell_type": "code",
   "execution_count": 13,
   "id": "c9959c37-58a3-4709-b771-e6453f64de7f",
   "metadata": {},
   "outputs": [
    {
     "data": {
      "text/plain": [
       "Q1     0\n",
       "Q2     0\n",
       "Q31    0\n",
       "Q32    0\n",
       "Q33    0\n",
       "dtype: int64"
      ]
     },
     "execution_count": 13,
     "metadata": {},
     "output_type": "execute_result"
    }
   ],
   "source": [
    "# check missing values\n",
    "hand_df.isna().sum().sort_values(ascending=False).head()"
   ]
  },
  {
   "cell_type": "code",
   "execution_count": 14,
   "id": "c173d685-e5e8-498a-94ae-7a726d7ea000",
   "metadata": {},
   "outputs": [
    {
     "data": {
      "text/plain": [
       "1    3542\n",
       "2     452\n",
       "3     179\n",
       "0      11\n",
       "Name: hand, dtype: int64"
      ]
     },
     "execution_count": 14,
     "metadata": {},
     "output_type": "execute_result"
    }
   ],
   "source": [
    "# check values in hand column\n",
    "hand_df['hand'].value_counts()"
   ]
  },
  {
   "cell_type": "code",
   "execution_count": 15,
   "id": "3e966233-cb03-4a34-9d21-c00e992d7978",
   "metadata": {},
   "outputs": [
    {
     "data": {
      "text/plain": [
       "1    2521\n",
       "3     494\n",
       "4     461\n",
       "2     385\n",
       "5     319\n",
       "0       4\n",
       "Name: Q1, dtype: int64"
      ]
     },
     "execution_count": 15,
     "metadata": {},
     "output_type": "execute_result"
    }
   ],
   "source": [
    "# check other columns that values == 0\n",
    "hand_df['Q1'].value_counts()"
   ]
  },
  {
   "cell_type": "code",
   "execution_count": 16,
   "id": "83688cd8-e9da-43f1-ae60-273181e6b068",
   "metadata": {},
   "outputs": [],
   "source": [
    "# drop 0 values in every rows \n",
    "hand_df=hand_df[hand_df!=0].dropna()\n",
    "\n",
    "# Why would drop zero values?\n",
    "# A: Small % of values and we're clear on what 0 means. But we think\n",
    "# it's likely a missing values stand-in\n",
    "\n",
    "# what do we do about values of 3? Ambidextrous folks.\n",
    "# Studeents say drop.\n",
    "# We're unable to differentiate betweenn dominant hand.\n",
    "# Also, larger % of 'hand' values but not overwhelming in terms of\n",
    "# row or information loss\n",
    "\n",
    "# Options: Exclude them, leave ambi folks in as category of their own,\n",
    "# or combining with another category (#use of left hand vs not)"
   ]
  },
  {
   "cell_type": "code",
   "execution_count": 17,
   "id": "25c2fd35-9b41-4114-b141-576c849db04c",
   "metadata": {},
   "outputs": [
    {
     "name": "stdout",
     "output_type": "stream",
     "text": [
      "<class 'pandas.core.frame.DataFrame'>\n",
      "Int64Index: 3481 entries, 0 to 4183\n",
      "Data columns (total 56 columns):\n",
      " #   Column       Non-Null Count  Dtype  \n",
      "---  ------       --------------  -----  \n",
      " 0   Q1           3481 non-null   float64\n",
      " 1   Q2           3481 non-null   float64\n",
      " 2   Q3           3481 non-null   float64\n",
      " 3   Q4           3481 non-null   float64\n",
      " 4   Q5           3481 non-null   float64\n",
      " 5   Q6           3481 non-null   float64\n",
      " 6   Q7           3481 non-null   float64\n",
      " 7   Q8           3481 non-null   float64\n",
      " 8   Q9           3481 non-null   float64\n",
      " 9   Q10          3481 non-null   float64\n",
      " 10  Q11          3481 non-null   float64\n",
      " 11  Q12          3481 non-null   float64\n",
      " 12  Q13          3481 non-null   float64\n",
      " 13  Q14          3481 non-null   float64\n",
      " 14  Q15          3481 non-null   float64\n",
      " 15  Q16          3481 non-null   float64\n",
      " 16  Q17          3481 non-null   float64\n",
      " 17  Q18          3481 non-null   float64\n",
      " 18  Q19          3481 non-null   float64\n",
      " 19  Q20          3481 non-null   float64\n",
      " 20  Q21          3481 non-null   float64\n",
      " 21  Q22          3481 non-null   float64\n",
      " 22  Q23          3481 non-null   float64\n",
      " 23  Q24          3481 non-null   float64\n",
      " 24  Q25          3481 non-null   float64\n",
      " 25  Q26          3481 non-null   float64\n",
      " 26  Q27          3481 non-null   float64\n",
      " 27  Q28          3481 non-null   float64\n",
      " 28  Q29          3481 non-null   float64\n",
      " 29  Q30          3481 non-null   float64\n",
      " 30  Q31          3481 non-null   float64\n",
      " 31  Q32          3481 non-null   float64\n",
      " 32  Q33          3481 non-null   float64\n",
      " 33  Q34          3481 non-null   float64\n",
      " 34  Q35          3481 non-null   float64\n",
      " 35  Q36          3481 non-null   float64\n",
      " 36  Q37          3481 non-null   float64\n",
      " 37  Q38          3481 non-null   float64\n",
      " 38  Q39          3481 non-null   float64\n",
      " 39  Q40          3481 non-null   float64\n",
      " 40  Q41          3481 non-null   float64\n",
      " 41  Q42          3481 non-null   float64\n",
      " 42  Q43          3481 non-null   float64\n",
      " 43  Q44          3481 non-null   float64\n",
      " 44  introelapse  3481 non-null   int64  \n",
      " 45  testelapse   3481 non-null   int64  \n",
      " 46  country      3481 non-null   object \n",
      " 47  fromgoogle   3481 non-null   int64  \n",
      " 48  engnat       3481 non-null   float64\n",
      " 49  age          3481 non-null   int64  \n",
      " 50  education    3481 non-null   float64\n",
      " 51  gender       3481 non-null   float64\n",
      " 52  orientation  3481 non-null   float64\n",
      " 53  race         3481 non-null   float64\n",
      " 54  religion     3481 non-null   float64\n",
      " 55  hand         3481 non-null   float64\n",
      "dtypes: float64(51), int64(4), object(1)\n",
      "memory usage: 1.5+ MB\n"
     ]
    }
   ],
   "source": [
    "# check info after drop 0\n",
    "hand_df.info()"
   ]
  },
  {
   "cell_type": "code",
   "execution_count": 18,
   "id": "43ee34ab-fb5c-4225-ba29-060b20f2a79c",
   "metadata": {},
   "outputs": [
    {
     "data": {
      "text/plain": [
       "1.0    85.291583\n",
       "2.0    10.456765\n",
       "3.0     4.251652\n",
       "Name: hand, dtype: float64"
      ]
     },
     "execution_count": 18,
     "metadata": {},
     "output_type": "execute_result"
    }
   ],
   "source": [
    "# baseline score\n",
    "hand_df['hand'].value_counts(normalize=True)*100"
   ]
  },
  {
   "cell_type": "code",
   "execution_count": 19,
   "id": "b8ed79fe-cd47-41cb-9a41-b8f701221692",
   "metadata": {},
   "outputs": [],
   "source": [
    "# drop both in column 'hand'\n",
    "hand_df = hand_df[hand_df['hand'] != 3]"
   ]
  },
  {
   "cell_type": "markdown",
   "id": "bb26e657",
   "metadata": {},
   "source": [
    "### Calculate and interpret the baseline accuracy rate:"
   ]
  },
  {
   "cell_type": "code",
   "execution_count": 20,
   "id": "89ecc3c6",
   "metadata": {},
   "outputs": [
    {
     "data": {
      "text/plain": [
       "1.0    89.078908\n",
       "2.0    10.921092\n",
       "Name: hand, dtype: float64"
      ]
     },
     "execution_count": 20,
     "metadata": {},
     "output_type": "execute_result"
    }
   ],
   "source": [
    "# baseline score\n",
    "hand_df['hand'].value_counts(normalize=True)*100"
   ]
  },
  {
   "cell_type": "code",
   "execution_count": 21,
   "id": "35730187-ca23-4b67-8ddc-93c3fe7c5606",
   "metadata": {},
   "outputs": [],
   "source": [
    "# baseline is 89%"
   ]
  },
  {
   "cell_type": "markdown",
   "id": "9c786ec6-8ea6-4552-a74d-6baf1287dd2c",
   "metadata": {},
   "source": [
    "### EDA"
   ]
  },
  {
   "cell_type": "markdown",
   "id": "b0bdae9d-2ad1-4bb9-8181-6766b22555fc",
   "metadata": {},
   "source": [
    "Violent"
   ]
  },
  {
   "cell_type": "code",
   "execution_count": 22,
   "id": "6a0e06b0-dacb-42ac-9261-941fe1e62ef0",
   "metadata": {},
   "outputs": [
    {
     "data": {
      "text/html": [
       "<div>\n",
       "<style scoped>\n",
       "    .dataframe tbody tr th:only-of-type {\n",
       "        vertical-align: middle;\n",
       "    }\n",
       "\n",
       "    .dataframe tbody tr th {\n",
       "        vertical-align: top;\n",
       "    }\n",
       "\n",
       "    .dataframe thead th {\n",
       "        text-align: right;\n",
       "    }\n",
       "</style>\n",
       "<table border=\"1\" class=\"dataframe\">\n",
       "  <thead>\n",
       "    <tr style=\"text-align: right;\">\n",
       "      <th></th>\n",
       "      <th>count</th>\n",
       "      <th>mean</th>\n",
       "    </tr>\n",
       "    <tr>\n",
       "      <th>hand</th>\n",
       "      <th></th>\n",
       "      <th></th>\n",
       "    </tr>\n",
       "  </thead>\n",
       "  <tbody>\n",
       "    <tr>\n",
       "      <th>1.0</th>\n",
       "      <td>2969</td>\n",
       "      <td>2.846413</td>\n",
       "    </tr>\n",
       "    <tr>\n",
       "      <th>2.0</th>\n",
       "      <td>364</td>\n",
       "      <td>2.752747</td>\n",
       "    </tr>\n",
       "  </tbody>\n",
       "</table>\n",
       "</div>"
      ],
      "text/plain": [
       "      count      mean\n",
       "hand                 \n",
       "1.0    2969  2.846413\n",
       "2.0     364  2.752747"
      ]
     },
     "execution_count": 22,
     "metadata": {},
     "output_type": "execute_result"
    }
   ],
   "source": [
    "# personality violent and left-headed in Q3\n",
    "hand_df.groupby('hand')['Q3'].agg(['count', 'mean'])"
   ]
  },
  {
   "cell_type": "code",
   "execution_count": 23,
   "id": "69be7d51-af6b-4f70-9d81-ff46034579b5",
   "metadata": {},
   "outputs": [
    {
     "data": {
      "text/html": [
       "<div>\n",
       "<style scoped>\n",
       "    .dataframe tbody tr th:only-of-type {\n",
       "        vertical-align: middle;\n",
       "    }\n",
       "\n",
       "    .dataframe tbody tr th {\n",
       "        vertical-align: top;\n",
       "    }\n",
       "\n",
       "    .dataframe thead th {\n",
       "        text-align: right;\n",
       "    }\n",
       "</style>\n",
       "<table border=\"1\" class=\"dataframe\">\n",
       "  <thead>\n",
       "    <tr style=\"text-align: right;\">\n",
       "      <th></th>\n",
       "      <th>count</th>\n",
       "      <th>mean</th>\n",
       "    </tr>\n",
       "    <tr>\n",
       "      <th>hand</th>\n",
       "      <th></th>\n",
       "      <th></th>\n",
       "    </tr>\n",
       "  </thead>\n",
       "  <tbody>\n",
       "    <tr>\n",
       "      <th>1.0</th>\n",
       "      <td>2969</td>\n",
       "      <td>3.191984</td>\n",
       "    </tr>\n",
       "    <tr>\n",
       "      <th>2.0</th>\n",
       "      <td>364</td>\n",
       "      <td>3.079670</td>\n",
       "    </tr>\n",
       "  </tbody>\n",
       "</table>\n",
       "</div>"
      ],
      "text/plain": [
       "      count      mean\n",
       "hand                 \n",
       "1.0    2969  3.191984\n",
       "2.0     364  3.079670"
      ]
     },
     "execution_count": 23,
     "metadata": {},
     "output_type": "execute_result"
    }
   ],
   "source": [
    "# personality violent and left-headed in Q15\n",
    "hand_df.groupby('hand')['Q15'].agg(['count', 'mean'])"
   ]
  },
  {
   "cell_type": "code",
   "execution_count": 24,
   "id": "8992adc3-32dd-4015-bafe-dfcf76cce1d1",
   "metadata": {},
   "outputs": [
    {
     "data": {
      "text/html": [
       "<div>\n",
       "<style scoped>\n",
       "    .dataframe tbody tr th:only-of-type {\n",
       "        vertical-align: middle;\n",
       "    }\n",
       "\n",
       "    .dataframe tbody tr th {\n",
       "        vertical-align: top;\n",
       "    }\n",
       "\n",
       "    .dataframe thead th {\n",
       "        text-align: right;\n",
       "    }\n",
       "</style>\n",
       "<table border=\"1\" class=\"dataframe\">\n",
       "  <thead>\n",
       "    <tr style=\"text-align: right;\">\n",
       "      <th></th>\n",
       "      <th>count</th>\n",
       "      <th>mean</th>\n",
       "    </tr>\n",
       "    <tr>\n",
       "      <th>hand</th>\n",
       "      <th></th>\n",
       "      <th></th>\n",
       "    </tr>\n",
       "  </thead>\n",
       "  <tbody>\n",
       "    <tr>\n",
       "      <th>1.0</th>\n",
       "      <td>2969</td>\n",
       "      <td>2.952846</td>\n",
       "    </tr>\n",
       "    <tr>\n",
       "      <th>2.0</th>\n",
       "      <td>364</td>\n",
       "      <td>2.909341</td>\n",
       "    </tr>\n",
       "  </tbody>\n",
       "</table>\n",
       "</div>"
      ],
      "text/plain": [
       "      count      mean\n",
       "hand                 \n",
       "1.0    2969  2.952846\n",
       "2.0     364  2.909341"
      ]
     },
     "execution_count": 24,
     "metadata": {},
     "output_type": "execute_result"
    }
   ],
   "source": [
    "# personality violent and left-headed in Q16\n",
    "hand_df.groupby('hand')['Q16'].agg(['count', 'mean'])"
   ]
  },
  {
   "cell_type": "code",
   "execution_count": 25,
   "id": "eb0717a7-9a82-4ad2-b9cd-dc6fc9b08739",
   "metadata": {},
   "outputs": [
    {
     "data": {
      "text/html": [
       "<div>\n",
       "<style scoped>\n",
       "    .dataframe tbody tr th:only-of-type {\n",
       "        vertical-align: middle;\n",
       "    }\n",
       "\n",
       "    .dataframe tbody tr th {\n",
       "        vertical-align: top;\n",
       "    }\n",
       "\n",
       "    .dataframe thead th {\n",
       "        text-align: right;\n",
       "    }\n",
       "</style>\n",
       "<table border=\"1\" class=\"dataframe\">\n",
       "  <thead>\n",
       "    <tr style=\"text-align: right;\">\n",
       "      <th></th>\n",
       "      <th>count</th>\n",
       "      <th>mean</th>\n",
       "    </tr>\n",
       "    <tr>\n",
       "      <th>hand</th>\n",
       "      <th></th>\n",
       "      <th></th>\n",
       "    </tr>\n",
       "  </thead>\n",
       "  <tbody>\n",
       "    <tr>\n",
       "      <th>1.0</th>\n",
       "      <td>2969</td>\n",
       "      <td>3.917144</td>\n",
       "    </tr>\n",
       "    <tr>\n",
       "      <th>2.0</th>\n",
       "      <td>364</td>\n",
       "      <td>3.714286</td>\n",
       "    </tr>\n",
       "  </tbody>\n",
       "</table>\n",
       "</div>"
      ],
      "text/plain": [
       "      count      mean\n",
       "hand                 \n",
       "1.0    2969  3.917144\n",
       "2.0     364  3.714286"
      ]
     },
     "execution_count": 25,
     "metadata": {},
     "output_type": "execute_result"
    }
   ],
   "source": [
    "# personality violent and left-headed in Q23\n",
    "hand_df.groupby('hand')['Q23'].agg(['count', 'mean'])"
   ]
  },
  {
   "cell_type": "code",
   "execution_count": 26,
   "id": "df6a4104-1e53-4044-b8a2-49021064cbb0",
   "metadata": {},
   "outputs": [
    {
     "data": {
      "text/html": [
       "<div>\n",
       "<style scoped>\n",
       "    .dataframe tbody tr th:only-of-type {\n",
       "        vertical-align: middle;\n",
       "    }\n",
       "\n",
       "    .dataframe tbody tr th {\n",
       "        vertical-align: top;\n",
       "    }\n",
       "\n",
       "    .dataframe thead th {\n",
       "        text-align: right;\n",
       "    }\n",
       "</style>\n",
       "<table border=\"1\" class=\"dataframe\">\n",
       "  <thead>\n",
       "    <tr style=\"text-align: right;\">\n",
       "      <th></th>\n",
       "      <th>count</th>\n",
       "      <th>mean</th>\n",
       "    </tr>\n",
       "    <tr>\n",
       "      <th>hand</th>\n",
       "      <th></th>\n",
       "      <th></th>\n",
       "    </tr>\n",
       "  </thead>\n",
       "  <tbody>\n",
       "    <tr>\n",
       "      <th>1.0</th>\n",
       "      <td>2969</td>\n",
       "      <td>2.731223</td>\n",
       "    </tr>\n",
       "    <tr>\n",
       "      <th>2.0</th>\n",
       "      <td>364</td>\n",
       "      <td>2.645604</td>\n",
       "    </tr>\n",
       "  </tbody>\n",
       "</table>\n",
       "</div>"
      ],
      "text/plain": [
       "      count      mean\n",
       "hand                 \n",
       "1.0    2969  2.731223\n",
       "2.0     364  2.645604"
      ]
     },
     "execution_count": 26,
     "metadata": {},
     "output_type": "execute_result"
    }
   ],
   "source": [
    "# personality violent and left-headed in Q27\n",
    "hand_df.groupby('hand')['Q27'].agg(['count', 'mean'])"
   ]
  },
  {
   "cell_type": "code",
   "execution_count": 27,
   "id": "d04e19e6-b8e4-445d-9335-ee8cf8399e73",
   "metadata": {},
   "outputs": [
    {
     "data": {
      "text/html": [
       "<div>\n",
       "<style scoped>\n",
       "    .dataframe tbody tr th:only-of-type {\n",
       "        vertical-align: middle;\n",
       "    }\n",
       "\n",
       "    .dataframe tbody tr th {\n",
       "        vertical-align: top;\n",
       "    }\n",
       "\n",
       "    .dataframe thead th {\n",
       "        text-align: right;\n",
       "    }\n",
       "</style>\n",
       "<table border=\"1\" class=\"dataframe\">\n",
       "  <thead>\n",
       "    <tr style=\"text-align: right;\">\n",
       "      <th></th>\n",
       "      <th>count</th>\n",
       "      <th>mean</th>\n",
       "    </tr>\n",
       "    <tr>\n",
       "      <th>hand</th>\n",
       "      <th></th>\n",
       "      <th></th>\n",
       "    </tr>\n",
       "  </thead>\n",
       "  <tbody>\n",
       "    <tr>\n",
       "      <th>1.0</th>\n",
       "      <td>2969</td>\n",
       "      <td>2.585382</td>\n",
       "    </tr>\n",
       "    <tr>\n",
       "      <th>2.0</th>\n",
       "      <td>364</td>\n",
       "      <td>2.472527</td>\n",
       "    </tr>\n",
       "  </tbody>\n",
       "</table>\n",
       "</div>"
      ],
      "text/plain": [
       "      count      mean\n",
       "hand                 \n",
       "1.0    2969  2.585382\n",
       "2.0     364  2.472527"
      ]
     },
     "execution_count": 27,
     "metadata": {},
     "output_type": "execute_result"
    }
   ],
   "source": [
    "# personality violent and left-headed in Q39\n",
    "hand_df.groupby('hand')['Q39'].agg(['count', 'mean'])"
   ]
  },
  {
   "cell_type": "markdown",
   "id": "a0ab0bad-2adc-41cf-b5ee-a3a3ae38f587",
   "metadata": {},
   "source": [
    "Smart"
   ]
  },
  {
   "cell_type": "code",
   "execution_count": 28,
   "id": "0ed20512-1856-41ee-85b3-bd2330fe7163",
   "metadata": {},
   "outputs": [
    {
     "data": {
      "text/html": [
       "<div>\n",
       "<style scoped>\n",
       "    .dataframe tbody tr th:only-of-type {\n",
       "        vertical-align: middle;\n",
       "    }\n",
       "\n",
       "    .dataframe tbody tr th {\n",
       "        vertical-align: top;\n",
       "    }\n",
       "\n",
       "    .dataframe thead th {\n",
       "        text-align: right;\n",
       "    }\n",
       "</style>\n",
       "<table border=\"1\" class=\"dataframe\">\n",
       "  <thead>\n",
       "    <tr style=\"text-align: right;\">\n",
       "      <th></th>\n",
       "      <th>count</th>\n",
       "      <th>mean</th>\n",
       "    </tr>\n",
       "    <tr>\n",
       "      <th>hand</th>\n",
       "      <th></th>\n",
       "      <th></th>\n",
       "    </tr>\n",
       "  </thead>\n",
       "  <tbody>\n",
       "    <tr>\n",
       "      <th>1.0</th>\n",
       "      <td>2969</td>\n",
       "      <td>1.961266</td>\n",
       "    </tr>\n",
       "    <tr>\n",
       "      <th>2.0</th>\n",
       "      <td>364</td>\n",
       "      <td>1.925824</td>\n",
       "    </tr>\n",
       "  </tbody>\n",
       "</table>\n",
       "</div>"
      ],
      "text/plain": [
       "      count      mean\n",
       "hand                 \n",
       "1.0    2969  1.961266\n",
       "2.0     364  1.925824"
      ]
     },
     "execution_count": 28,
     "metadata": {},
     "output_type": "execute_result"
    }
   ],
   "source": [
    "# personality smart and left-headed in Q1\n",
    "hand_df.groupby('hand')['Q1'].agg(['count', 'mean'])"
   ]
  },
  {
   "cell_type": "code",
   "execution_count": 29,
   "id": "720c9d61-77b9-4be1-aebe-37724f6e6542",
   "metadata": {},
   "outputs": [
    {
     "data": {
      "text/html": [
       "<div>\n",
       "<style scoped>\n",
       "    .dataframe tbody tr th:only-of-type {\n",
       "        vertical-align: middle;\n",
       "    }\n",
       "\n",
       "    .dataframe tbody tr th {\n",
       "        vertical-align: top;\n",
       "    }\n",
       "\n",
       "    .dataframe thead th {\n",
       "        text-align: right;\n",
       "    }\n",
       "</style>\n",
       "<table border=\"1\" class=\"dataframe\">\n",
       "  <thead>\n",
       "    <tr style=\"text-align: right;\">\n",
       "      <th></th>\n",
       "      <th>count</th>\n",
       "      <th>mean</th>\n",
       "    </tr>\n",
       "    <tr>\n",
       "      <th>hand</th>\n",
       "      <th></th>\n",
       "      <th></th>\n",
       "    </tr>\n",
       "  </thead>\n",
       "  <tbody>\n",
       "    <tr>\n",
       "      <th>1.0</th>\n",
       "      <td>2969</td>\n",
       "      <td>2.744022</td>\n",
       "    </tr>\n",
       "    <tr>\n",
       "      <th>2.0</th>\n",
       "      <td>364</td>\n",
       "      <td>2.760989</td>\n",
       "    </tr>\n",
       "  </tbody>\n",
       "</table>\n",
       "</div>"
      ],
      "text/plain": [
       "      count      mean\n",
       "hand                 \n",
       "1.0    2969  2.744022\n",
       "2.0     364  2.760989"
      ]
     },
     "execution_count": 29,
     "metadata": {},
     "output_type": "execute_result"
    }
   ],
   "source": [
    "# personality smart and left-headed in Q11\n",
    "hand_df.groupby('hand')['Q11'].agg(['count', 'mean'])"
   ]
  },
  {
   "cell_type": "code",
   "execution_count": 30,
   "id": "c97a19b5-2593-4359-9ba6-3b9791086a91",
   "metadata": {},
   "outputs": [
    {
     "data": {
      "text/html": [
       "<div>\n",
       "<style scoped>\n",
       "    .dataframe tbody tr th:only-of-type {\n",
       "        vertical-align: middle;\n",
       "    }\n",
       "\n",
       "    .dataframe tbody tr th {\n",
       "        vertical-align: top;\n",
       "    }\n",
       "\n",
       "    .dataframe thead th {\n",
       "        text-align: right;\n",
       "    }\n",
       "</style>\n",
       "<table border=\"1\" class=\"dataframe\">\n",
       "  <thead>\n",
       "    <tr style=\"text-align: right;\">\n",
       "      <th></th>\n",
       "      <th>count</th>\n",
       "      <th>mean</th>\n",
       "    </tr>\n",
       "    <tr>\n",
       "      <th>hand</th>\n",
       "      <th></th>\n",
       "      <th></th>\n",
       "    </tr>\n",
       "  </thead>\n",
       "  <tbody>\n",
       "    <tr>\n",
       "      <th>1.0</th>\n",
       "      <td>2969</td>\n",
       "      <td>2.674638</td>\n",
       "    </tr>\n",
       "    <tr>\n",
       "      <th>2.0</th>\n",
       "      <td>364</td>\n",
       "      <td>2.706044</td>\n",
       "    </tr>\n",
       "  </tbody>\n",
       "</table>\n",
       "</div>"
      ],
      "text/plain": [
       "      count      mean\n",
       "hand                 \n",
       "1.0    2969  2.674638\n",
       "2.0     364  2.706044"
      ]
     },
     "execution_count": 30,
     "metadata": {},
     "output_type": "execute_result"
    }
   ],
   "source": [
    "# personality smart and left-headed in Q13\n",
    "hand_df.groupby('hand')['Q13'].agg(['count', 'mean'])"
   ]
  },
  {
   "cell_type": "code",
   "execution_count": 31,
   "id": "62f808a8-1ebc-492f-be96-9442f1f18c46",
   "metadata": {},
   "outputs": [
    {
     "data": {
      "text/html": [
       "<div>\n",
       "<style scoped>\n",
       "    .dataframe tbody tr th:only-of-type {\n",
       "        vertical-align: middle;\n",
       "    }\n",
       "\n",
       "    .dataframe tbody tr th {\n",
       "        vertical-align: top;\n",
       "    }\n",
       "\n",
       "    .dataframe thead th {\n",
       "        text-align: right;\n",
       "    }\n",
       "</style>\n",
       "<table border=\"1\" class=\"dataframe\">\n",
       "  <thead>\n",
       "    <tr style=\"text-align: right;\">\n",
       "      <th></th>\n",
       "      <th>count</th>\n",
       "      <th>mean</th>\n",
       "    </tr>\n",
       "    <tr>\n",
       "      <th>hand</th>\n",
       "      <th></th>\n",
       "      <th></th>\n",
       "    </tr>\n",
       "  </thead>\n",
       "  <tbody>\n",
       "    <tr>\n",
       "      <th>1.0</th>\n",
       "      <td>2969</td>\n",
       "      <td>3.067363</td>\n",
       "    </tr>\n",
       "    <tr>\n",
       "      <th>2.0</th>\n",
       "      <td>364</td>\n",
       "      <td>3.035714</td>\n",
       "    </tr>\n",
       "  </tbody>\n",
       "</table>\n",
       "</div>"
      ],
      "text/plain": [
       "      count      mean\n",
       "hand                 \n",
       "1.0    2969  3.067363\n",
       "2.0     364  3.035714"
      ]
     },
     "execution_count": 31,
     "metadata": {},
     "output_type": "execute_result"
    }
   ],
   "source": [
    "# personality smart and left-headed in Q35\n",
    "hand_df.groupby('hand')['Q35'].agg(['count', 'mean'])"
   ]
  },
  {
   "cell_type": "markdown",
   "id": "74f65f3f-a531-4e17-bb2b-0c3aa79c8b66",
   "metadata": {},
   "source": [
    "Introvert"
   ]
  },
  {
   "cell_type": "code",
   "execution_count": 32,
   "id": "b660e9f9-e10a-4b19-b897-3160a38852c4",
   "metadata": {},
   "outputs": [
    {
     "data": {
      "text/html": [
       "<div>\n",
       "<style scoped>\n",
       "    .dataframe tbody tr th:only-of-type {\n",
       "        vertical-align: middle;\n",
       "    }\n",
       "\n",
       "    .dataframe tbody tr th {\n",
       "        vertical-align: top;\n",
       "    }\n",
       "\n",
       "    .dataframe thead th {\n",
       "        text-align: right;\n",
       "    }\n",
       "</style>\n",
       "<table border=\"1\" class=\"dataframe\">\n",
       "  <thead>\n",
       "    <tr style=\"text-align: right;\">\n",
       "      <th></th>\n",
       "      <th>count</th>\n",
       "      <th>mean</th>\n",
       "    </tr>\n",
       "    <tr>\n",
       "      <th>hand</th>\n",
       "      <th></th>\n",
       "      <th></th>\n",
       "    </tr>\n",
       "  </thead>\n",
       "  <tbody>\n",
       "    <tr>\n",
       "      <th>1.0</th>\n",
       "      <td>2969</td>\n",
       "      <td>3.707309</td>\n",
       "    </tr>\n",
       "    <tr>\n",
       "      <th>2.0</th>\n",
       "      <td>364</td>\n",
       "      <td>3.662088</td>\n",
       "    </tr>\n",
       "  </tbody>\n",
       "</table>\n",
       "</div>"
      ],
      "text/plain": [
       "      count      mean\n",
       "hand                 \n",
       "1.0    2969  3.707309\n",
       "2.0     364  3.662088"
      ]
     },
     "execution_count": 32,
     "metadata": {},
     "output_type": "execute_result"
    }
   ],
   "source": [
    "# personality introvert and left-headed in Q6\n",
    "hand_df.groupby('hand')['Q6'].agg(['count', 'mean'])"
   ]
  },
  {
   "cell_type": "code",
   "execution_count": 33,
   "id": "41971716-4325-4b70-8024-8fcf058eb6b9",
   "metadata": {},
   "outputs": [
    {
     "data": {
      "text/html": [
       "<div>\n",
       "<style scoped>\n",
       "    .dataframe tbody tr th:only-of-type {\n",
       "        vertical-align: middle;\n",
       "    }\n",
       "\n",
       "    .dataframe tbody tr th {\n",
       "        vertical-align: top;\n",
       "    }\n",
       "\n",
       "    .dataframe thead th {\n",
       "        text-align: right;\n",
       "    }\n",
       "</style>\n",
       "<table border=\"1\" class=\"dataframe\">\n",
       "  <thead>\n",
       "    <tr style=\"text-align: right;\">\n",
       "      <th></th>\n",
       "      <th>count</th>\n",
       "      <th>mean</th>\n",
       "    </tr>\n",
       "    <tr>\n",
       "      <th>hand</th>\n",
       "      <th></th>\n",
       "      <th></th>\n",
       "    </tr>\n",
       "  </thead>\n",
       "  <tbody>\n",
       "    <tr>\n",
       "      <th>1.0</th>\n",
       "      <td>2969</td>\n",
       "      <td>3.393062</td>\n",
       "    </tr>\n",
       "    <tr>\n",
       "      <th>2.0</th>\n",
       "      <td>364</td>\n",
       "      <td>3.214286</td>\n",
       "    </tr>\n",
       "  </tbody>\n",
       "</table>\n",
       "</div>"
      ],
      "text/plain": [
       "      count      mean\n",
       "hand                 \n",
       "1.0    2969  3.393062\n",
       "2.0     364  3.214286"
      ]
     },
     "execution_count": 33,
     "metadata": {},
     "output_type": "execute_result"
    }
   ],
   "source": [
    "# personality introvert and left-headed in Q14\n",
    "hand_df.groupby('hand')['Q14'].agg(['count', 'mean'])"
   ]
  },
  {
   "cell_type": "markdown",
   "id": "2016bb4e",
   "metadata": {},
   "source": [
    "### Short answer questions:\n",
    "\n",
    "In this lab you'll use K-nearest neighbors and logistic regression to model handedness based off of psychological factors. Answer the following related questions; your answers may be in bullet points.\n",
    "\n",
    "#### Describe the difference between regression and classification problems:"
   ]
  },
  {
   "cell_type": "code",
   "execution_count": 34,
   "id": "4807bf69",
   "metadata": {},
   "outputs": [],
   "source": [
    "# regssion problem about countinuous values\n",
    "# classification about category values"
   ]
  },
  {
   "cell_type": "code",
   "execution_count": 35,
   "id": "a9b101e2-93f5-4ca3-a8f0-e2d5149b78b4",
   "metadata": {},
   "outputs": [],
   "source": [
    "# Classification - discrete or categories,\n",
    "# sometimes binary, sometime multiclass\n",
    "\n",
    "# regression - continuous target values"
   ]
  },
  {
   "cell_type": "markdown",
   "id": "b7469aee",
   "metadata": {},
   "source": [
    "#### Considering $k$-nearest neighbors, describe the relationship between $k$ and the bias-variance tradeoff:"
   ]
  },
  {
   "cell_type": "code",
   "execution_count": 36,
   "id": "a758c2c6",
   "metadata": {},
   "outputs": [],
   "source": [
    "# k  is the number of neighbors that help KNN identify which class label\n",
    "# a data point woyld belong in\n",
    "\n",
    "# if k are low it may lead overfitting\n",
    "# if k are high it may lead underfitting\n",
    "\n",
    "# smaller k --> may lead to overfitting\n",
    "# optimal k --> 'the sweet spot'\n",
    "# larger k --> may lead to underfitting"
   ]
  },
  {
   "cell_type": "markdown",
   "id": "7bdc66d6",
   "metadata": {},
   "source": [
    "#### Why do we often standardize predictor variables when using $k$-nearest neighbors?"
   ]
  },
  {
   "cell_type": "code",
   "execution_count": 37,
   "id": "a175b54e",
   "metadata": {},
   "outputs": [],
   "source": [
    "# for make values same scale\n",
    "\n",
    "# kNN is a distance-based algorithm and scale/magnitude of features\n",
    "# impacts performance and output\n",
    "\n",
    "# Standardization (StandardScaler) --> \n",
    "# rescale values in the features column to have mean of zero and std of 1"
   ]
  },
  {
   "cell_type": "markdown",
   "id": "4ad52536",
   "metadata": {},
   "source": [
    "#### Do you think we should standardize the explanatory variables for this problem? Why or why not?"
   ]
  },
  {
   "cell_type": "code",
   "execution_count": 38,
   "id": "71ccc6f2",
   "metadata": {},
   "outputs": [],
   "source": [
    "# for this problem answer is not\n",
    "# because all variables are same scale\n",
    "\n",
    "# Possibly not this time as all our features to be used\n",
    "# are ranged from 1-5. Already on the same or very similar scale."
   ]
  },
  {
   "cell_type": "markdown",
   "id": "1cf6e09f",
   "metadata": {},
   "source": [
    "#### How do we settle on $k$ for a $k$-nearest neighbors model?"
   ]
  },
  {
   "cell_type": "code",
   "execution_count": 39,
   "id": "0c8aa87d",
   "metadata": {},
   "outputs": [],
   "source": [
    "# knn = KNeighborsClassifier(n_neighbors= [set k in this e.g. 1, 5, 10] )\n",
    "\n",
    "# Options\n",
    "\n",
    "# 1. use the default\n",
    "# 2. Guess\n",
    "# 3. Loop/iterate through a range of k options and select the\n",
    "# optimal one based on score."
   ]
  },
  {
   "cell_type": "markdown",
   "id": "958fe4a8",
   "metadata": {},
   "source": [
    "#### What is the default type of regularization for logistic regression as implemented in scikit-learn? (You might [check the documentation](https://scikit-learn.org/stable/modules/generated/sklearn.linear_model.LogisticRegression.html).)"
   ]
  },
  {
   "cell_type": "code",
   "execution_count": 40,
   "id": "b49dadcf",
   "metadata": {},
   "outputs": [],
   "source": [
    "# L2 or Ridge regularization."
   ]
  },
  {
   "cell_type": "markdown",
   "id": "f4b117e3",
   "metadata": {},
   "source": [
    "#### Describe the relationship between the scikit-learn `LogisticRegression` argument `C` and regularization strength:"
   ]
  },
  {
   "cell_type": "code",
   "execution_count": 41,
   "id": "d0bece7f",
   "metadata": {},
   "outputs": [],
   "source": [
    "# lower C would strengthen the lambda regulator\n",
    "\n",
    "# Argument C - refers to an 'Inverse of Alpha (Regularization parameter)'\n",
    "\n",
    "# C = 1/alpha\n",
    "# alpha = 1, what is C? 1\n",
    "# if alpha = .1 what is C? 10\n",
    "\n",
    "# What does a higher C mean? Less regularization\n",
    "# what does a lower c mean? More regularization"
   ]
  },
  {
   "cell_type": "markdown",
   "id": "4f19a574",
   "metadata": {},
   "source": [
    "#### Describe the relationship between regularization strength and the bias-variance tradeoff:"
   ]
  },
  {
   "cell_type": "code",
   "execution_count": 42,
   "id": "82c2edec",
   "metadata": {},
   "outputs": [],
   "source": [
    "# regularization will decrease chance of variance in model but model\n",
    "# also lost predictive power.\n",
    "\n",
    "# Why? Avoid error due to high variance (overfitting)\n",
    "# When? High model complexity which is leading to overfitting.\n",
    "\n",
    "# C is high --> less --> more prone to overfitting\n",
    "# C is low --> more --> less prone to overfiiting and if\n",
    "# overdone, we could possibly get to underfitting"
   ]
  },
  {
   "cell_type": "markdown",
   "id": "7089674d",
   "metadata": {},
   "source": [
    "#### Logistic regression is considered more interpretable than $k$-nearest neighbors. Explain why."
   ]
  },
  {
   "cell_type": "code",
   "execution_count": 43,
   "id": "cf94e95b",
   "metadata": {},
   "outputs": [],
   "source": [
    "# Logistic Regression has coefficent that we can interpret\n",
    "# as x increase 1 unit will result in y increase in the log-odds ration of success:faliure\n",
    "\n",
    "# Interpretable\n",
    "# LogReg has coefficients (statistical parameters) which are sometimes\n",
    "# referred as a betas. kNN is non-parametric and has no coefficients\n",
    "# or statistical parameters.\n",
    "\n",
    "# Explainable to a non-technical individual?\n",
    "# Conceptuall, kNN isn't too hard to explain to a wide audience\n",
    "\n",
    "# Explaining relationships in a meaningful and actionable way?\n",
    "# kNN fails and LogReg is better"
   ]
  },
  {
   "cell_type": "markdown",
   "id": "00360fc0",
   "metadata": {},
   "source": [
    "---\n",
    "\n",
    "## Step 4 & 5 Modeling: $k$-nearest neighbors\n",
    "\n",
    "### Train-test split your data:\n",
    "\n",
    "Your explanatory variables should be "
   ]
  },
  {
   "cell_type": "code",
   "execution_count": 44,
   "id": "d28a674d-b32e-4228-b9b2-11608f8868f6",
   "metadata": {},
   "outputs": [],
   "source": [
    "# create X and y\n",
    "X = hand_df[['Q1', 'Q3', 'Q6', 'Q11', 'Q13', 'Q14', 'Q15',\n",
    "             'Q16', 'Q23', 'Q27', 'Q35', 'Q39']]\n",
    "y = hand_df['hand']\n",
    "y = y - 1"
   ]
  },
  {
   "cell_type": "code",
   "execution_count": 45,
   "id": "7239cca8",
   "metadata": {},
   "outputs": [],
   "source": [
    "# create train test split and set stratify\n",
    "X_train, X_test, y_train, y_test = train_test_split(X, y, test_size=0.2,\n",
    "                                                    random_state=42, stratify=y)"
   ]
  },
  {
   "cell_type": "code",
   "execution_count": 46,
   "id": "49910de6-74be-4782-92d4-ff8d59675a6d",
   "metadata": {},
   "outputs": [
    {
     "data": {
      "text/plain": [
       "0.0    0.890848\n",
       "1.0    0.109152\n",
       "Name: hand, dtype: float64"
      ]
     },
     "execution_count": 46,
     "metadata": {},
     "output_type": "execute_result"
    }
   ],
   "source": [
    "# check porpotion of values in target\n",
    "y_train.value_counts(normalize=True)"
   ]
  },
  {
   "cell_type": "code",
   "execution_count": 47,
   "id": "108b03ee-7f64-41e0-885c-4272576535ac",
   "metadata": {},
   "outputs": [
    {
     "data": {
      "text/plain": [
       "0.0    0.890555\n",
       "1.0    0.109445\n",
       "Name: hand, dtype: float64"
      ]
     },
     "execution_count": 47,
     "metadata": {},
     "output_type": "execute_result"
    }
   ],
   "source": [
    "# check porpotion of values in train target\n",
    "y_test.value_counts(normalize=True)"
   ]
  },
  {
   "cell_type": "markdown",
   "id": "772f7e27",
   "metadata": {},
   "source": [
    "#### Create and fit four separate $k$-nearest neighbors models: one with $k = 3$, one with $k = 5$, one with $k = 15$, and one with $k = 25$:"
   ]
  },
  {
   "cell_type": "code",
   "execution_count": 48,
   "id": "0eaa73e0",
   "metadata": {},
   "outputs": [
    {
     "data": {
      "text/plain": [
       "0.9066016504126031"
      ]
     },
     "execution_count": 48,
     "metadata": {},
     "output_type": "execute_result"
    }
   ],
   "source": [
    "# instanctiate model k = 3 and train model\n",
    "knn_3 = KNeighborsClassifier(n_neighbors = 3)\n",
    "knn_3.fit(X_train, y_train)\n",
    "knn_3.score(X_train, y_train)"
   ]
  },
  {
   "cell_type": "code",
   "execution_count": 49,
   "id": "fdad8dc0-6b70-4f41-8be9-19136fa93be3",
   "metadata": {},
   "outputs": [
    {
     "data": {
      "text/plain": [
       "0.8938484621155289"
      ]
     },
     "execution_count": 49,
     "metadata": {},
     "output_type": "execute_result"
    }
   ],
   "source": [
    "# instanctiate model k = 5 and train model\n",
    "knn_5 = KNeighborsClassifier(n_neighbors = 5)\n",
    "knn_5.fit(X_train, y_train)\n",
    "knn_5.score(X_train, y_train)"
   ]
  },
  {
   "cell_type": "code",
   "execution_count": 50,
   "id": "4ee2934b-393c-4143-be8d-b4e32c18242d",
   "metadata": {},
   "outputs": [
    {
     "data": {
      "text/plain": [
       "0.890847711927982"
      ]
     },
     "execution_count": 50,
     "metadata": {},
     "output_type": "execute_result"
    }
   ],
   "source": [
    "# instanctiate model k = 15 and train model\n",
    "knn_15 = KNeighborsClassifier(n_neighbors = 15)\n",
    "knn_15.fit(X_train, y_train)\n",
    "knn_15.score(X_train, y_train)"
   ]
  },
  {
   "cell_type": "code",
   "execution_count": 51,
   "id": "60a0ce44-7026-4e08-ad8e-79318d60726e",
   "metadata": {},
   "outputs": [
    {
     "data": {
      "text/plain": [
       "0.890847711927982"
      ]
     },
     "execution_count": 51,
     "metadata": {},
     "output_type": "execute_result"
    }
   ],
   "source": [
    "# instanctiate model k = 25 and train model\n",
    "knn_25 = KNeighborsClassifier(n_neighbors = 25)\n",
    "knn_25.fit(X_train, y_train)\n",
    "knn_25.score(X_train, y_train)"
   ]
  },
  {
   "cell_type": "code",
   "execution_count": 68,
   "id": "1cbd9953-d482-4383-8847-d37e36931926",
   "metadata": {},
   "outputs": [
    {
     "name": "stdout",
     "output_type": "stream",
     "text": [
      "k = 3 0.9066016504126031\n",
      "k = 5 0.8938484621155289\n",
      "k = 15 0.890847711927982\n",
      "k = 25 0.890847711927982\n"
     ]
    }
   ],
   "source": [
    "k = [3, 5, 15, 25]\n",
    "for i in k:\n",
    "    knn = KNeighborsClassifier(n_neighbors = i)\n",
    "    knn.fit(X_train, y_train)\n",
    "    print(f'k = {i} {knn.score(X_train, y_train)}')"
   ]
  },
  {
   "cell_type": "code",
   "execution_count": 88,
   "id": "b550a522-7d41-4ba2-86dd-9f8fa4490ef4",
   "metadata": {},
   "outputs": [],
   "source": [
    "k_scores = pd.DataFrame(columns=['k', 'train_score', 'test_score', 'preds_one'])\n",
    "\n",
    "for n, k in enumerate([3, 5, 15, 25]):\n",
    "    knn = KNeighborsClassifier(n_neighbors = k)\n",
    "    knn.fit(X_train, y_train)\n",
    "    y_preds = knn.predict(X_test)\n",
    "    preds_one = y_preds == 1\n",
    "    train_score = knn.score(X_train, y_train)\n",
    "    test_score = knn.score(X_test, y_test)\n",
    "    k_scores.loc[n] = [k, train_score, test_score, pd.Series(preds_one).sum()]"
   ]
  },
  {
   "cell_type": "code",
   "execution_count": 89,
   "id": "cc69724a-89bb-4fe2-a63d-b86a877b6d6e",
   "metadata": {},
   "outputs": [
    {
     "data": {
      "text/html": [
       "<div>\n",
       "<style scoped>\n",
       "    .dataframe tbody tr th:only-of-type {\n",
       "        vertical-align: middle;\n",
       "    }\n",
       "\n",
       "    .dataframe tbody tr th {\n",
       "        vertical-align: top;\n",
       "    }\n",
       "\n",
       "    .dataframe thead th {\n",
       "        text-align: right;\n",
       "    }\n",
       "</style>\n",
       "<table border=\"1\" class=\"dataframe\">\n",
       "  <thead>\n",
       "    <tr style=\"text-align: right;\">\n",
       "      <th></th>\n",
       "      <th>k</th>\n",
       "      <th>train_score</th>\n",
       "      <th>test_score</th>\n",
       "      <th>preds_one</th>\n",
       "    </tr>\n",
       "  </thead>\n",
       "  <tbody>\n",
       "    <tr>\n",
       "      <th>0</th>\n",
       "      <td>3.0</td>\n",
       "      <td>0.906602</td>\n",
       "      <td>0.878561</td>\n",
       "      <td>16.0</td>\n",
       "    </tr>\n",
       "    <tr>\n",
       "      <th>1</th>\n",
       "      <td>5.0</td>\n",
       "      <td>0.893848</td>\n",
       "      <td>0.886057</td>\n",
       "      <td>3.0</td>\n",
       "    </tr>\n",
       "    <tr>\n",
       "      <th>2</th>\n",
       "      <td>15.0</td>\n",
       "      <td>0.890848</td>\n",
       "      <td>0.890555</td>\n",
       "      <td>0.0</td>\n",
       "    </tr>\n",
       "    <tr>\n",
       "      <th>3</th>\n",
       "      <td>25.0</td>\n",
       "      <td>0.890848</td>\n",
       "      <td>0.890555</td>\n",
       "      <td>0.0</td>\n",
       "    </tr>\n",
       "  </tbody>\n",
       "</table>\n",
       "</div>"
      ],
      "text/plain": [
       "      k  train_score  test_score  preds_one\n",
       "0   3.0     0.906602    0.878561       16.0\n",
       "1   5.0     0.893848    0.886057        3.0\n",
       "2  15.0     0.890848    0.890555        0.0\n",
       "3  25.0     0.890848    0.890555        0.0"
      ]
     },
     "execution_count": 89,
     "metadata": {},
     "output_type": "execute_result"
    }
   ],
   "source": [
    "k_scores"
   ]
  },
  {
   "cell_type": "markdown",
   "id": "6ea6f202",
   "metadata": {},
   "source": [
    "### Evaluate your models:\n",
    "\n",
    "Evaluate each of your four models on the training and testing sets, and interpret the four scores. Are any of your models overfit or underfit? Do any of your models beat the baseline accuracy rate?"
   ]
  },
  {
   "cell_type": "code",
   "execution_count": 52,
   "id": "a41192bf",
   "metadata": {},
   "outputs": [
    {
     "data": {
      "text/plain": [
       "0.8785607196401799"
      ]
     },
     "execution_count": 52,
     "metadata": {},
     "output_type": "execute_result"
    }
   ],
   "source": [
    "# test k =3\n",
    "knn_3.score(X_test, y_test)\n",
    "\n",
    "# k = 3 cause Underfitting"
   ]
  },
  {
   "cell_type": "code",
   "execution_count": 53,
   "id": "c2426665",
   "metadata": {},
   "outputs": [
    {
     "data": {
      "text/plain": [
       "0.8860569715142429"
      ]
     },
     "execution_count": 53,
     "metadata": {},
     "output_type": "execute_result"
    }
   ],
   "source": [
    "# test k = 5\n",
    "knn_5.score(X_test, y_test)\n",
    "\n",
    "# k = 5 cause Underfitting"
   ]
  },
  {
   "cell_type": "code",
   "execution_count": 54,
   "id": "1de73199",
   "metadata": {},
   "outputs": [
    {
     "data": {
      "text/plain": [
       "0.8905547226386806"
      ]
     },
     "execution_count": 54,
     "metadata": {},
     "output_type": "execute_result"
    }
   ],
   "source": [
    "# test k =15\n",
    "knn_15.score(X_test, y_test)\n",
    "\n",
    "# k = 15 is do the same as baseline"
   ]
  },
  {
   "cell_type": "code",
   "execution_count": 55,
   "id": "b9dd11db-3fa7-464c-9b0e-8de2b8ea87d1",
   "metadata": {},
   "outputs": [
    {
     "data": {
      "text/plain": [
       "0.8905547226386806"
      ]
     },
     "execution_count": 55,
     "metadata": {},
     "output_type": "execute_result"
    }
   ],
   "source": [
    "# test k =25\n",
    "knn_25.score(X_test, y_test)\n",
    "\n",
    "# k = 25 is do the same as baseline"
   ]
  },
  {
   "cell_type": "code",
   "execution_count": 90,
   "id": "6347cca1-7085-4802-b418-452fbda3c80d",
   "metadata": {},
   "outputs": [
    {
     "data": {
      "text/plain": [
       "array([[582,  12],\n",
       "       [ 69,   4]], dtype=int64)"
      ]
     },
     "execution_count": 90,
     "metadata": {},
     "output_type": "execute_result"
    }
   ],
   "source": [
    "# Confusion matrix of knn\n",
    "confusion_matrix(y_test, knn_3.predict(X_test))\n",
    "# can't predict any of left-handed"
   ]
  },
  {
   "cell_type": "code",
   "execution_count": 91,
   "id": "93538f52-19ef-4a08-b01e-aab5f12b808e",
   "metadata": {},
   "outputs": [],
   "source": [
    "# Underfit, The higher K test scores are the baseline accuracy\n",
    "# appears good on majority, bad on minority class\n",
    "\n",
    "# The challenge here is not so much the algorithm or the # of k\n",
    "# but the imbalanced class split alonng with a tenuous likely\n",
    "# relationship between X and y"
   ]
  },
  {
   "cell_type": "code",
   "execution_count": null,
   "id": "499645d2-ed9f-4a82-a5a6-b1f6649de138",
   "metadata": {},
   "outputs": [],
   "source": [
    "# Options\n",
    "\n",
    "# Addressing the class label imbalance (switching k at 90/10 split)\n",
    "# made no significant difference in models predictive accuracy\n",
    "\n",
    "# Find left-haded people to survey\n",
    "# Oversampling the minority class\n",
    "# Undersampling the majority class\n",
    "# A bit both (SMOTE) --> Synthetic Minority Over-Sampling Technique\n",
    "# Algorithmically increase the number of your cases in \n",
    "# your dataset in a more balanced way"
   ]
  },
  {
   "cell_type": "markdown",
   "id": "8488dc25",
   "metadata": {},
   "source": [
    "---\n",
    "\n",
    "## Step 4 & 5 Modeling: logistic regression\n",
    "\n",
    "#### Create and fit four separate logistic regression models: one with LASSO and $\\alpha = 1$, one with LASSO and $\\alpha = 10$, one with Ridge and $\\alpha = 1$, and one with Ridge and $\\alpha = 10$. *(Hint: Be careful with how you specify $\\alpha$ in your model!)*\n",
    "\n",
    "Note: You can use the same train and test data as above."
   ]
  },
  {
   "cell_type": "code",
   "execution_count": 57,
   "id": "fe96a2d4",
   "metadata": {},
   "outputs": [
    {
     "data": {
      "text/plain": [
       "0.890847711927982"
      ]
     },
     "execution_count": 57,
     "metadata": {},
     "output_type": "execute_result"
    }
   ],
   "source": [
    "# logistic reg, use lasso alpha = 1\n",
    "logreg_la_1 = LogisticRegression(penalty='l1', solver='liblinear')\n",
    "logreg_la_1.fit(X_train, y_train)\n",
    "logreg_la_1.score(X_train, y_train)"
   ]
  },
  {
   "cell_type": "code",
   "execution_count": 58,
   "id": "55dcae5c-f83c-4fc2-92cf-73d517835fc6",
   "metadata": {},
   "outputs": [
    {
     "data": {
      "text/plain": [
       "0.890847711927982"
      ]
     },
     "execution_count": 58,
     "metadata": {},
     "output_type": "execute_result"
    }
   ],
   "source": [
    "# logistic reg, use lasso alpha = 10\n",
    "logreg_la_10 = LogisticRegression(penalty='l1', C=1/10, solver='liblinear')\n",
    "logreg_la_10.fit(X_train, y_train)\n",
    "logreg_la_10.score(X_train, y_train)"
   ]
  },
  {
   "cell_type": "code",
   "execution_count": 59,
   "id": "c22c4ebc-3bdf-43e5-a1e5-6d16d052f145",
   "metadata": {},
   "outputs": [
    {
     "data": {
      "text/plain": [
       "0.890847711927982"
      ]
     },
     "execution_count": 59,
     "metadata": {},
     "output_type": "execute_result"
    }
   ],
   "source": [
    "# logistic reg, use ridge alpha = 1\n",
    "logreg_ri_1 = LogisticRegression(penalty='l2', solver='liblinear')\n",
    "logreg_ri_1.fit(X_train, y_train)\n",
    "logreg_ri_1.score(X_train, y_train)"
   ]
  },
  {
   "cell_type": "code",
   "execution_count": 60,
   "id": "45a51cd4-f56a-4788-9a5b-ae8bcf12a77a",
   "metadata": {},
   "outputs": [
    {
     "data": {
      "text/plain": [
       "0.890847711927982"
      ]
     },
     "execution_count": 60,
     "metadata": {},
     "output_type": "execute_result"
    }
   ],
   "source": [
    "# logistic reg, use ridge alpha = 10\n",
    "logreg_ri_10 = LogisticRegression(penalty='l2', C=1/10, solver='liblinear')\n",
    "logreg_ri_10.fit(X_train, y_train)\n",
    "logreg_ri_10.score(X_train, y_train)"
   ]
  },
  {
   "cell_type": "markdown",
   "id": "703eecea",
   "metadata": {},
   "source": [
    "### Evaluate your models:\n",
    "\n",
    "Evaluate each of your four models on the training and testing sets, and interpret the four scores. Are any of your models overfit or underfit? Do any of your models beat the baseline accuracy rate?"
   ]
  },
  {
   "cell_type": "code",
   "execution_count": 61,
   "id": "d42c9ea7",
   "metadata": {},
   "outputs": [
    {
     "data": {
      "text/plain": [
       "0.8905547226386806"
      ]
     },
     "execution_count": 61,
     "metadata": {},
     "output_type": "execute_result"
    }
   ],
   "source": [
    "# test reg l1 alpha = 1\n",
    "logreg_la_1.score(X_test, y_test)"
   ]
  },
  {
   "cell_type": "code",
   "execution_count": 62,
   "id": "5d0def91-503e-4c72-abc3-1d62b6199878",
   "metadata": {},
   "outputs": [
    {
     "data": {
      "text/plain": [
       "0.8905547226386806"
      ]
     },
     "execution_count": 62,
     "metadata": {},
     "output_type": "execute_result"
    }
   ],
   "source": [
    "# test reg l1 alpha = 10\n",
    "logreg_la_10.score(X_test, y_test)"
   ]
  },
  {
   "cell_type": "code",
   "execution_count": 63,
   "id": "6f61cad6-a1c6-4cf4-9a17-bedb0bd322d2",
   "metadata": {},
   "outputs": [
    {
     "data": {
      "text/plain": [
       "0.8905547226386806"
      ]
     },
     "execution_count": 63,
     "metadata": {},
     "output_type": "execute_result"
    }
   ],
   "source": [
    "# test reg l2 alpha = 1\n",
    "logreg_ri_1.score(X_test, y_test)"
   ]
  },
  {
   "cell_type": "code",
   "execution_count": 64,
   "id": "6e8134f6-4863-41da-9959-2f8d396ca284",
   "metadata": {},
   "outputs": [
    {
     "data": {
      "text/plain": [
       "0.8905547226386806"
      ]
     },
     "execution_count": 64,
     "metadata": {},
     "output_type": "execute_result"
    }
   ],
   "source": [
    "# test reg l2 alpha = 10\n",
    "logreg_ri_10.score(X_test, y_test)"
   ]
  },
  {
   "cell_type": "code",
   "execution_count": 65,
   "id": "20370fb1-ba2e-44a2-931b-e4af08dd6a03",
   "metadata": {},
   "outputs": [
    {
     "data": {
      "text/plain": [
       "array([[594,   0],\n",
       "       [ 73,   0]], dtype=int64)"
      ]
     },
     "execution_count": 65,
     "metadata": {},
     "output_type": "execute_result"
    }
   ],
   "source": [
    "# Confusion matrix\n",
    "confusion_matrix(y_test, logreg_ri_1.predict(X_test))\n",
    "# model can't predict TP"
   ]
  },
  {
   "cell_type": "markdown",
   "id": "e36a746e",
   "metadata": {},
   "source": [
    "---\n",
    "\n",
    "## Step 6: Answer the problem.\n",
    "\n",
    "Are any of your models worth moving forward with? What are the \"best\" models?"
   ]
  },
  {
   "cell_type": "code",
   "execution_count": 66,
   "id": "1eeac9f0",
   "metadata": {},
   "outputs": [],
   "source": [
    "# Every models have the high accuracy but if we look deep down\n",
    "# models can not predict the left-handed even logistic regression.\n",
    "# might from data that imbalance between right and left handed"
   ]
  }
 ],
 "metadata": {
  "kernelspec": {
   "display_name": "Python 3 (ipykernel)",
   "language": "python",
   "name": "python3"
  },
  "language_info": {
   "codemirror_mode": {
    "name": "ipython",
    "version": 3
   },
   "file_extension": ".py",
   "mimetype": "text/x-python",
   "name": "python",
   "nbconvert_exporter": "python",
   "pygments_lexer": "ipython3",
   "version": "3.9.13"
  }
 },
 "nbformat": 4,
 "nbformat_minor": 5
}
